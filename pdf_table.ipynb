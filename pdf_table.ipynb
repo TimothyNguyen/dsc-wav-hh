{
 "cells": [
  {
   "cell_type": "code",
   "execution_count": 1,
   "metadata": {},
   "outputs": [
    {
     "name": "stdout",
     "output_type": "stream",
     "text": [
      "Requirement already satisfied: tabula-py in c:\\users\\quynh\\anaconda3\\lib\\site-packages (2.2.0)\n",
      "Requirement already satisfied: distro in c:\\users\\quynh\\anaconda3\\lib\\site-packages (from tabula-py) (1.5.0)\n",
      "Requirement already satisfied: pandas>=0.25.3 in c:\\users\\quynh\\anaconda3\\lib\\site-packages (from tabula-py) (1.1.2)\n",
      "Requirement already satisfied: numpy in c:\\users\\quynh\\anaconda3\\lib\\site-packages (from tabula-py) (1.18.1)\n",
      "Requirement already satisfied: pytz>=2017.2 in c:\\users\\quynh\\anaconda3\\lib\\site-packages (from pandas>=0.25.3->tabula-py) (2019.3)\n",
      "Requirement already satisfied: python-dateutil>=2.7.3 in c:\\users\\quynh\\anaconda3\\lib\\site-packages (from pandas>=0.25.3->tabula-py) (2.8.1)\n",
      "Requirement already satisfied: six>=1.5 in c:\\users\\quynh\\anaconda3\\lib\\site-packages (from python-dateutil>=2.7.3->pandas>=0.25.3->tabula-py) (1.14.0)\n"
     ]
    }
   ],
   "source": [
    "!pip install tabula-py\n",
    "import tabula\n",
    "import pandas as pd\n",
    "import numpy as np"
   ]
  },
  {
   "cell_type": "code",
   "execution_count": 2,
   "metadata": {},
   "outputs": [],
   "source": [
    "table = tabula.read_pdf(\"G1.pdf\", pages=1)"
   ]
  },
  {
   "cell_type": "code",
   "execution_count": 3,
   "metadata": {},
   "outputs": [],
   "source": [
    "for i in range(len(table)):\n",
    "    table[i].columns = table[i].columns.str.replace(r\"\\r\", \" \")"
   ]
  },
  {
   "cell_type": "code",
   "execution_count": 4,
   "metadata": {},
   "outputs": [],
   "source": [
    "table[0] = table[0].drop(columns=[\"Unnamed: 0\"])"
   ]
  },
  {
   "cell_type": "code",
   "execution_count": 5,
   "metadata": {},
   "outputs": [],
   "source": [
    "index = table[0].index\n",
    "condition1 = table[0]['CHICOPEE BIG Y'] == \"WEEKDAY\"\n",
    "condition2 = table[0]['CHICOPEE BIG Y'] == 'SATURDAY'\n",
    "condition3 = table[0]['CHICOPEE BIG Y'] == 'SUNDAY'\n",
    "day_indices = index[condition1][0], index[condition2][0], index[condition3][0]\n",
    "\n",
    "table_weekday = table[0].iloc[day_indices[0] + 1: day_indices[1] - 1]\n",
    "table_saturday = table[0].iloc[day_indices[1] + 1: day_indices[2] - 1]\n",
    "table_sunday = table[0].iloc[day_indices[2] + 1: len(table[0])]\n",
    "table_weekday.reset_index(drop=True, inplace=True)\n",
    "table_saturday.reset_index(drop=True, inplace=True)\n",
    "table_sunday.reset_index(drop=True, inplace=True)"
   ]
  },
  {
   "cell_type": "code",
   "execution_count": 6,
   "metadata": {},
   "outputs": [],
   "source": [
    "def preprocess_table(table):\n",
    "    for i in range(len(table.columns)):\n",
    "        col = table.columns[i]\n",
    "        table[col] = table[col].str.replace('[\\|A|B|C|D|E|F|G|H|I|J|K|L|M|N|O|P|Q|R|S|T|U|V|W|X|Y|Z|-]','')"
   ]
  },
  {
   "cell_type": "code",
   "execution_count": 7,
   "metadata": {},
   "outputs": [
    {
     "name": "stderr",
     "output_type": "stream",
     "text": [
      "C:\\Users\\quynh\\anaconda3\\lib\\site-packages\\ipykernel_launcher.py:4: SettingWithCopyWarning: \n",
      "A value is trying to be set on a copy of a slice from a DataFrame.\n",
      "Try using .loc[row_indexer,col_indexer] = value instead\n",
      "\n",
      "See the caveats in the documentation: https://pandas.pydata.org/pandas-docs/stable/user_guide/indexing.html#returning-a-view-versus-a-copy\n",
      "  after removing the cwd from sys.path.\n"
     ]
    }
   ],
   "source": [
    "preprocess_table(table_weekday)\n",
    "preprocess_table(table_saturday)\n",
    "preprocess_table(table_sunday)"
   ]
  },
  {
   "cell_type": "code",
   "execution_count": 8,
   "metadata": {},
   "outputs": [],
   "source": [
    "# condition on mornings for weekdays. \n",
    "condition_weekday_morning = table_weekday['CHICOPEE BIG Y'].str.contains('[1][2]:[0-5][0-9]').idxmax()\n",
    "table_weekday_morning = table_weekday.iloc[0: condition_weekday_morning]\n",
    "table_weekday_morning.reset_index(drop=True, inplace=True)"
   ]
  },
  {
   "cell_type": "code",
   "execution_count": 9,
   "metadata": {},
   "outputs": [],
   "source": [
    "# condition on evenings for weekdays\n",
    "condition_weekday_evening = table_weekday['CHICOPEE BIG Y.1'].str.contains('[1][2]:[0-5][0-9]').idxmax()\n",
    "table_weekday_evening = table_weekday.iloc[condition_weekday_evening - 1:]\n",
    "table_weekday_evening.reset_index(drop=True, inplace=True)"
   ]
  },
  {
   "cell_type": "code",
   "execution_count": 10,
   "metadata": {},
   "outputs": [],
   "source": [
    "# condition on mornings for saturdays. \n",
    "condition_saturday_morning = table_saturday['CHICOPEE BIG Y'].str.contains('[1][2]:[0-5][0-9]').idxmax()\n",
    "table_saturday_morning = table_saturday.iloc[0: condition_saturday_morning]\n",
    "table_saturday_morning.reset_index(drop=True, inplace=True)"
   ]
  },
  {
   "cell_type": "code",
   "execution_count": 11,
   "metadata": {},
   "outputs": [],
   "source": [
    "# condition on evenings for saturdays. \n",
    "condition_saturday_evening = table_saturday['CHICOPEE BIG Y.1'].str.contains('[1][2]:[0-5][0-9]').idxmax()\n",
    "table_saturday_evening = table_saturday.iloc[condition_saturday_evening - 1:]\n",
    "table_saturday_evening.reset_index(drop=True, inplace=True)"
   ]
  },
  {
   "cell_type": "code",
   "execution_count": 12,
   "metadata": {},
   "outputs": [],
   "source": [
    "# condition on mornings for sunday. \n",
    "condition_sunday_morning = table_sunday['CHICOPEE BIG Y'].str.contains('[1][2]:[0-5][0-9]').idxmax()\n",
    "table_sunday_morning = table_sunday.iloc[0: condition_sunday_morning]\n",
    "table_sunday_morning.reset_index(drop=True, inplace=True)"
   ]
  },
  {
   "cell_type": "code",
   "execution_count": 13,
   "metadata": {},
   "outputs": [],
   "source": [
    "# condition on evenings for sunday. \n",
    "condition_sunday_evening = table_sunday['CHICOPEE BIG Y.1'].str.contains('[1][2]:[0-5][0-9]').idxmax()\n",
    "table_sunday_evening = table_sunday.iloc[condition_sunday_evening - 1:]\n",
    "table_sunday_evening.reset_index(drop=True, inplace=True)"
   ]
  },
  {
   "cell_type": "code",
   "execution_count": 14,
   "metadata": {},
   "outputs": [],
   "source": [
    "def preprocess_times_morning(table):\n",
    "    for i in range(len(table.columns)):\n",
    "        if i != 0:\n",
    "            col = table.columns[i]\n",
    "            index = table[col].str.contains('[1][2]:[0-5][0-9]').idxmax()\n",
    "            table.loc[index:,col] = ''"
   ]
  },
  {
   "cell_type": "code",
   "execution_count": 15,
   "metadata": {},
   "outputs": [],
   "source": [
    "def preprocess_times_evening(table):\n",
    "    for i in range(len(table.columns)):\n",
    "        col = table.columns[i]\n",
    "        index = table[col].str.contains('[1][2]:[0-5][0-9]').idxmax()\n",
    "        if index != -1:\n",
    "            table.loc[0:index-1,col] = ''"
   ]
  },
  {
   "cell_type": "code",
   "execution_count": 16,
   "metadata": {},
   "outputs": [],
   "source": [
    "table_weekday_evening = table_weekday_evening.copy()\n",
    "preprocess_times_evening(table_weekday_evening)\n",
    "table_saturday_evening = table_saturday_evening.copy()\n",
    "preprocess_times_evening(table_saturday_evening)\n",
    "table_sunday_evening = table_sunday_evening.copy()\n",
    "preprocess_times_evening(table_sunday_evening)\n",
    "table_weekday_morning = table_weekday_morning.copy()\n",
    "preprocess_times_morning(table_weekday_morning)\n",
    "table_saturday_morning = table_saturday_morning.copy()\n",
    "preprocess_times_morning(table_saturday_morning)\n",
    "table_sunday_morning = table_sunday_morning.copy()\n",
    "preprocess_times_morning(table_sunday_morning)"
   ]
  },
  {
   "cell_type": "code",
   "execution_count": 17,
   "metadata": {},
   "outputs": [],
   "source": [
    "table_weekday_morning = table_weekday_morning.replace(r'^\\s*$', np.nan, regex=True)\n",
    "table_weekday_evening = table_weekday_evening.replace(r'^\\s*$', np.nan, regex=True)\n",
    "table_saturday_morning = table_saturday_morning.replace(r'^\\s*$', np.nan, regex=True)\n",
    "table_saturday_evening = table_saturday_evening.replace(r'^\\s*$', np.nan, regex=True)\n",
    "table_sunday_morning = table_sunday_morning.replace(r'^\\s*$', np.nan, regex=True)\n",
    "table_sunday_evening = table_sunday_evening.replace(r'^\\s*$', np.nan, regex=True)\n",
    "\n",
    "# Drop apply\n",
    "table_weekday_morning = table_weekday_morning.apply(lambda x: pd.Series(x.dropna().values)).fillna('')\n",
    "table_weekday_evening = table_weekday_evening.apply(lambda x: pd.Series(x.dropna().values)).fillna('')\n",
    "table_saturday_morning = table_saturday_morning.apply(lambda x: pd.Series(x.dropna().values)).fillna('')\n",
    "table_saturday_evening = table_saturday_evening.apply(lambda x: pd.Series(x.dropna().values)).fillna('')\n",
    "table_sunday_morning = table_sunday_morning.apply(lambda x: pd.Series(x.dropna().values)).fillna('')\n",
    "table_sunday_evening = table_sunday_evening.apply(lambda x: pd.Series(x.dropna().values)).fillna('')"
   ]
  },
  {
   "cell_type": "code",
   "execution_count": 20,
   "metadata": {},
   "outputs": [],
   "source": [
    "table_weekday_morning.to_csv(r'weekday_morning.csv', index=False, header=True) \n",
    "table_weekday_evening.to_csv(r'weekday_evening.csv', index=False, header=True) \n",
    "table_saturday_morning.to_csv(r'saturday_morning.csv', index=False, header=True) \n",
    "table_saturday_evening.to_csv(r'saturday_evening.csv', index=False, header=True) \n",
    "table_sunday_morning.to_csv(r'sunday_morning.csv', index=False, header=True) \n",
    "table_sunday_evening.to_csv(r'sunday_evening.csv', index=False, header=True) "
   ]
  }
 ],
 "metadata": {
  "kernelspec": {
   "display_name": "Python 3",
   "language": "python",
   "name": "python3"
  },
  "language_info": {
   "codemirror_mode": {
    "name": "ipython",
    "version": 3
   },
   "file_extension": ".py",
   "mimetype": "text/x-python",
   "name": "python",
   "nbconvert_exporter": "python",
   "pygments_lexer": "ipython3",
   "version": "3.7.6"
  }
 },
 "nbformat": 4,
 "nbformat_minor": 4
}
