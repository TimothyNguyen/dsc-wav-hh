{
 "cells": [
  {
   "cell_type": "code",
   "execution_count": 1,
   "metadata": {},
   "outputs": [
    {
     "name": "stdout",
     "output_type": "stream",
     "text": [
      "Collecting PyPDF2\n",
      "  Downloading PyPDF2-1.26.0.tar.gz (77 kB)\n",
      "Using legacy setup.py install for PyPDF2, since package 'wheel' is not installed.\n",
      "Installing collected packages: PyPDF2\n",
      "    Running setup.py install for PyPDF2: started\n",
      "    Running setup.py install for PyPDF2: finished with status 'done'\n",
      "Successfully installed PyPDF2-1.26.0\n"
     ]
    },
    {
     "name": "stderr",
     "output_type": "stream",
     "text": [
      "WARNING: You are using pip version 20.1.1; however, version 20.2.3 is available.\n",
      "You should consider upgrading via the 'c:\\python38\\python.exe -m pip install --upgrade pip' command.\n"
     ]
    }
   ],
   "source": [
    "!pip3 install PyPDF2"
   ]
  },
  {
   "cell_type": "code",
   "execution_count": 32,
   "metadata": {},
   "outputs": [
    {
     "name": "stdin",
     "output_type": "stream",
     "text": [
      " epaga\n"
     ]
    },
    {
     "name": "stdout",
     "output_type": "stream",
     "text": [
      "{'title': 'A Message to Our Customers', 'url': 'http://www.apple.com/customer-letter/', 'author': 'epaga', 'num_comments': 967, 'story_id': None, 'story_title': None, 'story_url': None, 'parent_id': None, 'created_at': 1455698317}\n",
      "{'title': '“Was isolated from 1999 to 2006 with a 486. Built my own late 80s OS”', 'url': 'http://imgur.com/gallery/hRf2trV', 'author': 'epaga', 'num_comments': 265, 'story_id': None, 'story_title': None, 'story_url': None, 'parent_id': None, 'created_at': 1418517626}\n",
      "{'title': 'Apple’s declining software quality', 'url': 'http://sudophilosophical.com/2016/02/04/apples-declining-software-quality/', 'author': 'epaga', 'num_comments': 705, 'story_id': None, 'story_title': None, 'story_url': None, 'parent_id': None, 'created_at': 1454596037}\n"
     ]
    },
    {
     "ename": "NameError",
     "evalue": "name 'fptr' is not defined",
     "output_type": "error",
     "traceback": [
      "\u001b[1;31m---------------------------------------------------------------------------\u001b[0m",
      "\u001b[1;31mNameError\u001b[0m                                 Traceback (most recent call last)",
      "\u001b[1;32m<ipython-input-32-bb8b69cea9fe>\u001b[0m in \u001b[0;36m<module>\u001b[1;34m\u001b[0m\n\u001b[0;32m     50\u001b[0m     \u001b[0mresult\u001b[0m \u001b[1;33m=\u001b[0m \u001b[0mgetAuthorHistory\u001b[0m\u001b[1;33m(\u001b[0m\u001b[0mauthor\u001b[0m\u001b[1;33m)\u001b[0m\u001b[1;33m\u001b[0m\u001b[1;33m\u001b[0m\u001b[0m\n\u001b[0;32m     51\u001b[0m \u001b[1;33m\u001b[0m\u001b[0m\n\u001b[1;32m---> 52\u001b[1;33m     \u001b[0mfptr\u001b[0m\u001b[1;33m.\u001b[0m\u001b[0mwrite\u001b[0m\u001b[1;33m(\u001b[0m\u001b[1;34m'\\n'\u001b[0m\u001b[1;33m.\u001b[0m\u001b[0mjoin\u001b[0m\u001b[1;33m(\u001b[0m\u001b[0mresult\u001b[0m\u001b[1;33m)\u001b[0m\u001b[1;33m)\u001b[0m\u001b[1;33m\u001b[0m\u001b[1;33m\u001b[0m\u001b[0m\n\u001b[0m\u001b[0;32m     53\u001b[0m     \u001b[0mfptr\u001b[0m\u001b[1;33m.\u001b[0m\u001b[0mwrite\u001b[0m\u001b[1;33m(\u001b[0m\u001b[1;34m'\\n'\u001b[0m\u001b[1;33m)\u001b[0m\u001b[1;33m\u001b[0m\u001b[1;33m\u001b[0m\u001b[0m\n\u001b[0;32m     54\u001b[0m \u001b[1;33m\u001b[0m\u001b[0m\n",
      "\u001b[1;31mNameError\u001b[0m: name 'fptr' is not defined"
     ]
    }
   ],
   "source": [
    "\n",
    "\n",
    "#!/bin/python3\n",
    "\n",
    "import math\n",
    "import os\n",
    "import random\n",
    "import re\n",
    "import sys\n",
    "import requests\n",
    "\n",
    "#\n",
    "# Complete the 'getAuthorHistory' function below.\n",
    "#\n",
    "# The function is expected to return a STRING_ARRAY.\n",
    "# The function accepts STRING author as parameter.\n",
    "#\n",
    "# Base urls:\n",
    "#   https://jsonmock.hackerrank.com/api/article_users?username=\n",
    "#   https://jsonmock.hackerrank.com/api/articles?author=\n",
    "#\n",
    "\n",
    "def getAuthorHistory(author):\n",
    "    # Write your code here\n",
    "    histArr = list()\n",
    "    url = \"https://jsonmock.hackerrank.com/api/article_users?username=\" + author\n",
    "    response = requests.get(url).json()\n",
    "    about = response['data'][0].get('about')\n",
    "    if about is not None and len(about) != 0:\n",
    "        histArr.append(about)\n",
    "    url2 = \"https://jsonmock.hackerrank.com/api/articles?author=\" + author\n",
    "    articles = requests.get(url2).json()\n",
    "    #print(len(articles['data']))\n",
    "    #print(articles)\n",
    "    for i in range(len(articles['data'])):\n",
    "        print(articles['data'][i])\n",
    "        title = articles['data'][i].get('title')\n",
    "        story_title = articles['data'][i].get('story_title')\n",
    "        if title is not None and len(title) != 0:\n",
    "            histArr.append(title)\n",
    "        elif story_title is not None and len(story_title) != 0:\n",
    "            histArr.append(story_title)\n",
    "    return histArr\n",
    "    \n",
    "    \n",
    "\n",
    "\n",
    "if __name__ == '__main__':\n",
    "\n",
    "    author = input()\n",
    "\n",
    "    result = getAuthorHistory(author)\n",
    "\n",
    "    fptr.write('\\n'.join(result))\n",
    "    fptr.write('\\n')\n",
    "\n",
    "    fptr.close()\n"
   ]
  },
  {
   "cell_type": "code",
   "execution_count": null,
   "metadata": {},
   "outputs": [],
   "source": []
  }
 ],
 "metadata": {
  "kernelspec": {
   "display_name": "Python 3",
   "language": "python",
   "name": "python3"
  },
  "language_info": {
   "codemirror_mode": {
    "name": "ipython",
    "version": 3
   },
   "file_extension": ".py",
   "mimetype": "text/x-python",
   "name": "python",
   "nbconvert_exporter": "python",
   "pygments_lexer": "ipython3",
   "version": "3.7.6"
  }
 },
 "nbformat": 4,
 "nbformat_minor": 4
}
